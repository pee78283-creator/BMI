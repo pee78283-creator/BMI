{
 "cells": [
  {
   "cell_type": "code",
   "execution_count": 14,
   "id": "a6ab4402-4148-4e99-884a-d11f8259a39f",
   "metadata": {},
   "outputs": [
    {
     "name": "stdin",
     "output_type": "stream",
     "text": [
      "Enter your weight in kilograms:  59\n",
      "Enter your height in meters:  1.5\n"
     ]
    },
    {
     "name": "stdout",
     "output_type": "stream",
     "text": [
      "Your BMI is: 26.22\n",
      "You are overweight.\n"
     ]
    }
   ],
   "source": [
    "def calculate_bmi(weight, height):\n",
    "    bmi = weight / (height ** 2)\n",
    "    return bmi\n",
    "def main():\n",
    "     weight = 0.0\n",
    "     height = 0.0\n",
    "    \n",
    "     try:\n",
    "        weight = float(input(\"Enter your weight in kilograms: \"))\n",
    "        height = float(input(\"Enter your height in meters: \"))\n",
    "        \n",
    "        if weight <= 0 or height <= 0:\n",
    "            print(\"Weight and height must be positive numbers.\")\n",
    "            return\n",
    "        \n",
    "        bmi = calculate_bmi(weight, height)\n",
    "        print(f\"Your BMI is: {bmi:.2f}\")\n",
    "        \n",
    "        \n",
    "        match bmi:\n",
    "            case bmi if bmi < 18.5:\n",
    "                print(\"You are underweight.\")\n",
    "            case bmi if 18.5 <= bmi < 24.9:\n",
    "                print(\"You have a normal weight.\")\n",
    "            case bmi if 25 <= bmi < 29.9:\n",
    "                print(\"You are overweight.\")\n",
    "            case _:\n",
    "                print(\"You are obese.\")\n",
    "    \n",
    "     except ValueError:\n",
    "        print(\"Please enter valid numbers for weight and height.\")\n",
    "\n",
    "if __name__ == \"__main__\":\n",
    "    main()\n"
   ]
  },
  {
   "cell_type": "code",
   "execution_count": null,
   "id": "061a3600-a0de-4630-8e68-d441ac967511",
   "metadata": {},
   "outputs": [],
   "source": []
  }
 ],
 "metadata": {
  "kernelspec": {
   "display_name": "Python [conda env:base] *",
   "language": "python",
   "name": "conda-base-py"
  },
  "language_info": {
   "codemirror_mode": {
    "name": "ipython",
    "version": 3
   },
   "file_extension": ".py",
   "mimetype": "text/x-python",
   "name": "python",
   "nbconvert_exporter": "python",
   "pygments_lexer": "ipython3",
   "version": "3.13.5"
  }
 },
 "nbformat": 4,
 "nbformat_minor": 5
}
